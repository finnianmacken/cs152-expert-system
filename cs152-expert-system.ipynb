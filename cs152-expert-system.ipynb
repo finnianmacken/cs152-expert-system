{
 "cells": [
  {
   "cell_type": "code",
   "execution_count": 4,
   "metadata": {},
   "outputs": [],
   "source": [
    "from pyswip.prolog import Prolog\n",
    "from pyswip import registerForeign, Functor, call, Variable\n",
    "import tempfile\n",
    "import os"
   ]
  },
  {
   "cell_type": "markdown",
   "metadata": {},
   "source": [
    "## Knowledge Base"
   ]
  },
  {
   "cell_type": "markdown",
   "metadata": {},
   "source": [
    "- we can alternatively use prolog.assertz for dynamically constructing statements"
   ]
  },
  {
   "cell_type": "code",
   "execution_count": 5,
   "metadata": {},
   "outputs": [],
   "source": [
    "KB = \"\"\"\n",
    "\n",
    "% Used for predicates that are added later\n",
    ":- dynamic known/3, multivalued/1.\n",
    "\n",
    "% Rules\n",
    "\n",
    "% Rule 1:** if engine is not turning_over and battery is bad then problem is battery.\n",
    "\n",
    "problem(battery):- \\+engine(turning_over), battery(bad).\n",
    "\n",
    "% Rule 2\n",
    "\n",
    "problem(engine_oil_low) :- \\+engine(turning_over), warning_light(oil).\n",
    "\n",
    "% Rule 3\n",
    "\n",
    "battery(bad) :- lights(weak).\n",
    "\n",
    "% Rule 4\n",
    "\n",
    "battery(bad) :- radio(weak).\n",
    "\n",
    "% Rule 5\n",
    "\n",
    "problem(engine_flooded):- engine(turning_over), smell(gas).\n",
    "\n",
    "% Rule 6 if engine is turning_over and gas_gauge is empty then problem is out_of_gas.\n",
    "\n",
    "problem(out_of_gas):- engine(turning_over), gas_gauge(empty).\n",
    "\n",
    "\n",
    "% Askables\n",
    "multivalued(engine).\n",
    "\n",
    "engine(X):- ask(engine, X).\n",
    "\n",
    "warning_light(X):- ask(warning_light, X).\n",
    "\n",
    "lights(X):- ask(lights, X).\n",
    "\n",
    "smell(X):- ask(smell, X).\n",
    "\n",
    "radio(X):- ask(radio, X).\n",
    "\n",
    "gas_gauge(X):- ask(gas_gauge, X).\n",
    "\n",
    "\n",
    "\n",
    "% System Framework\n",
    "\n",
    "ask(A, V):-\n",
    "known(yes, A, V), % succeed if true\n",
    "!.\t% stop looking\n",
    "\n",
    "ask(A, V):-\n",
    "known(_, A, V), % fail if false\n",
    "!, fail.\n",
    "\n",
    "% If not multivalued, and already known to be something else, don't ask again for a different value.\n",
    "ask(A, V):-\n",
    "\\+multivalued(A),\n",
    "known(yes, A, V2),\n",
    "V \\== V2,\n",
    "!, fail.\n",
    "\n",
    "ask(A, V):-\n",
    "read_py(A,V,Y), % get the answer\n",
    "assertz(known(Y, A, V)), % remember it\n",
    "Y == yes.\t% succeed or fail\n",
    "\n",
    "\"\"\""
   ]
  },
  {
   "cell_type": "markdown",
   "metadata": {},
   "source": [
    "## Interface Scaffold"
   ]
  },
  {
   "cell_type": "code",
   "execution_count": 6,
   "metadata": {},
   "outputs": [
    {
     "name": "stderr",
     "output_type": "stream",
     "text": [
      "Warning: /var/folders/_n/c17wd9k97s7dm583pk_qqyjh0000gn/T/tmpvkuozk_i.pl:26:\n",
      "Warning:    Clauses of problem/1 are not together in the source-file\n",
      "Warning:    Earlier definition at /var/folders/_n/c17wd9k97s7dm583pk_qqyjh0000gn/T/tmpvkuozk_i.pl:10\n",
      "Warning:    Current predicate: battery/1\n",
      "Warning:    Use :- discontiguous problem/1. to suppress this message\n"
     ]
    },
    {
     "name": "stdout",
     "output_type": "stream",
     "text": [
      "Your problem is unknown.\n"
     ]
    }
   ],
   "source": [
    "prolog = Prolog()\n",
    "\n",
    "# pull out Prolog built-ins into the Python name-space\n",
    "retractall = Functor(\"retractall\")\n",
    "known = Functor(\"known\", 3)\n",
    "\n",
    "# user input and print functions\n",
    "def write_py(X):\n",
    "    print(str(X))\n",
    "    sys.stdout.flush()\n",
    "    return True\n",
    "\n",
    "\n",
    "def read_py(A,V,Y):\n",
    "    if isinstance(Y, Variable):\n",
    "        response = input(str(A) + \" is \" + str(V) + \"? \")\n",
    "        Y.unify(response)\n",
    "        return True\n",
    "    else:\n",
    "        return False\n",
    "\n",
    "write_py.arity = 1\n",
    "read_py.arity = 3\n",
    "\n",
    "registerForeign(read_py)\n",
    "registerForeign(write_py)\n",
    "\n",
    "# Create a temporary file with the KB in it\n",
    "(FD, name) = tempfile.mkstemp(suffix='.pl', text = \"True\")\n",
    "with os.fdopen(FD, \"w\") as text_file:\n",
    "    text_file.write(KB)\n",
    "prolog.consult(name) # open the KB for consulting\n",
    "os.unlink(name) # Remove the temporary file\n",
    "\n",
    "call(retractall(known))\n",
    "problem = [s for s in prolog.query(\"problem(X).\", maxresult=1)]\n",
    "print(\"Your problem is \" + (problem[0]['X'] + \".\" if problem else \"unknown.\"))\n"
   ]
  }
 ],
 "metadata": {
  "kernelspec": {
   "display_name": "Python 3.9.16 64-bit",
   "language": "python",
   "name": "python3"
  },
  "language_info": {
   "codemirror_mode": {
    "name": "ipython",
    "version": 3
   },
   "file_extension": ".py",
   "mimetype": "text/x-python",
   "name": "python",
   "nbconvert_exporter": "python",
   "pygments_lexer": "ipython3",
   "version": "3.9.16"
  },
  "orig_nbformat": 4,
  "vscode": {
   "interpreter": {
    "hash": "a665b5d41d17b532ea9890333293a1b812fa0b73c9c25c950b3cedf1bebd0438"
   }
  }
 },
 "nbformat": 4,
 "nbformat_minor": 2
}
