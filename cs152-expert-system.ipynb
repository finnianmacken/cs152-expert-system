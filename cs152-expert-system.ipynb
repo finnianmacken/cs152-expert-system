{
 "cells": [
  {
   "cell_type": "code",
   "execution_count": 1,
   "metadata": {},
   "outputs": [],
   "source": [
    "from pyswip.prolog import Prolog\n",
    "from pyswip import registerForeign, Functor, call, Variable\n",
    "import tempfile\n",
    "import os\n",
    "import sys"
   ]
  },
  {
   "cell_type": "code",
   "execution_count": 2,
   "metadata": {},
   "outputs": [],
   "source": [
    "### Readable Location names\n",
    "dict_locations = {\n",
    "    \"museo_evita\" : \"Museo Evita: A museum all about Eva Perón, Argentina's famous first lady.\",\n",
    "    \"science_museum\": \"Centro Cultural de la Ciencia: A hands-on science museum.\",\n",
    "    \"fine_arts\": \"Museo Nacional de Bellas Artes: Visit Argentina's largest fine arts museum.\",\n",
    "    \"borges_center\": \"Borges Cultural Center: A historic landmark and exhibit dedicated to Argentinian writer, Jorge Luis Borges.\",\n",
    "    \"silvori_museum\": \"Museo Sívori: A small art museum featuring Argentinian artists.\",\n",
    "    \"malba\": \"Museo de Arte Latinoamericano de Buenos Aires (MALBA): The famous museum dedicated to latin-american art.\",\n",
    "    \"museo_modern\": \"Museo Moderno: Visit Buenos Aires' museum for modern art and movements.\",\n",
    "    \"library\": \"Biblioteca Nacional Mariano Moreno: Visit Argentina's beautiful national library, located at the heart of a park.\",\n",
    "    \"recoletta_cemetery\": \"Cementerio de la Recoleta: The recoleta cemetery contains graves for some of the most famous Argentinians in history.\",\n",
    "    \"basilica\": \"Basilica Maria Auxiliadora y San Carlos: Buenos Aires' most beautiful church.\",\n",
    "    \"jazz_backroom\": \"Backroom Bar: Enjoy live jazz at backroom, the bar and cafe and library.\",\n",
    "    \"tango\": \"MOVAQ - Aquelarre en Movimiento: Learn to tango in this Minervan-approved dance class.\",\n",
    "    \"teatro_colon\": \"Teatro Colón: Book tickets or visit Buenos Aires' opera house.\",\n",
    "    \"botanical_gardens\": \"Jardín Botánico Carlos Thays: Run through Buenos Aires' many gardens and parks at the botanical gardens.\",\n",
    "    \"football_centro_garrigos\": \"Centro Garrigós: Visit centro garrigos and play Argentina's favourite sport on their free field!\",\n",
    "    \"ecological_reserve\": \"Reserva Ecológica Costanera Sur: Get out of the city and bike through Buenos Aires' Ecological Reserve.\",\n",
    "    \"centenario_park\": \"Parque Centenario: Rent a bike to travel around centenario park and enjoy its lake!\",\n",
    "    \"rock_climb\": \"Bien Alto Escuela de Montaña: Learn to rock climb.\",\n",
    "    \"peru_beach\":\"Peru Beach: Enjoy one of the many sports available at Peru Beach sportsclub.\",\n",
    "    \"veganious\":\"Veganious: Cheap vegan eats!\",\n",
    "    \"toque_perfecto\":\"Toque Perfecto: Vegetarian buffet with all the vegetables you can dream of.\",\n",
    "    \"cang_tin\":\"Cang Tin: A vietnamese restaurant with fun decor.\",\n",
    "    \"saigon_noodle\":\"Saigon Noodle Bar: Best vietnamese food in Buenos Aires (according to non-vietnamese Minervans)\",\n",
    "    \"chui\": \"Chui: The best restaurant in the city (highly recommend the mushroom pâté.)\",\n",
    "    \"mudra\": \"Mudra: Vegetarian high dining.\",\n",
    "    \"tandoor\": \"Tandoor: One of the few Indian restaurants in Buenos Aires.\",\n",
    "    \"chori\": \"Chori: Grab Argentina's favourite cheap lunch, a choripan!\",\n",
    "    \"sazon_cuyagua\": \"El Sazón De Cuyagua: The best venezuelan empanadas in the city (plus more cheap venezuelan meals).\",\n",
    "    \"koi_dumplings\": \"Koi Dumplings: \",\n",
    "    \"kefi_greek\": \"Kefi: One of the few greek restaurants in Buenos Aires.\",\n",
    "    \"concina_yovita\": \"La Concina de Yovita: Expect massive portions of delicious Peruvian dishes.\",\n",
    "    \"mr_ho_korean\": \"Mr.Ho's: Excellent Korean food for when you are craving spice.\",\n",
    "    \"don_julio\": \"Don Julio: Come here for world famous Argentinian steak.\",\n",
    "    \"sagardi_argentina\": \"Sagardi: High dining meets Argentian barbecue.\"\n",
    "}"
   ]
  },
  {
   "cell_type": "markdown",
   "metadata": {},
   "source": [
    "## Interface Scaffold"
   ]
  },
  {
   "cell_type": "code",
   "execution_count": 3,
   "metadata": {},
   "outputs": [],
   "source": [
    "def consult_expert_system(debug=False):\n",
    "    \"\"\"\n",
    "    Consults a knowledge base of tourist locations in Buenos Aires and asks a series of\n",
    "    diagnostic questions to determine recommended activities. Uses Prolog's predicate logic\n",
    "    to analyse previous answers and determine which questions need to be asked for resolution.\n",
    "\n",
    "    Inputs\n",
    "    -------\n",
    "    debug: if true, prints all known values and attributes when running the expert system\n",
    "\n",
    "    Outputs: None\n",
    "    \"\"\"\n",
    "\n",
    "    prolog = Prolog()\n",
    "    prolog.consult(\"./buenos_aires-kb.pl\")\n",
    "\n",
    "    # pull out Prolog built-ins into the Python name-space\n",
    "    retractall = Functor(\"retractall\")\n",
    "    known = Functor(\"known\", 3)\n",
    "    member = Functor('member', 2)\n",
    "\n",
    "    # maps basic attributes to natural-language questions\n",
    "    question_dict = {\n",
    "        'budget': \"Should the activity be free? (yes/no)\",\n",
    "        'experience': \"Which of the following experiences would you like to have? (Input the associated number)\",\n",
    "        'time_required': \"How long should the activity take? (Short is less than 2 hours)\",\n",
    "        'distance': \"Do you want to do something nearby or far away (Input the associated number)\",\n",
    "        'price_point': \"Roughly how much do you want to pay for your food? (Input the associated number\",\n",
    "        'culture_type': \"Would you like to go to a museum? (yes/no)\",\n",
    "        'museum_type': \"What type of museum would you like to visit? (Input the associated number)\",\n",
    "        'diet': \"Are you vegetarian (yes/no)\"\n",
    "    }\n",
    "\n",
    "    def read_py(A,V,Y):\n",
    "        \"\"\"\n",
    "        Asks the user whether a specified value V of an attribute A is true,\n",
    "        and binds the response to a Prolog variable.\n",
    "\n",
    "         Inputs\n",
    "        --------\n",
    "        A: the specified attribute\n",
    "        V: the associated value\n",
    "        Y: a variable with which the user response is unified\n",
    "\n",
    "        Output\n",
    "        ------\n",
    "        success/failure: returns true as long as Y is a variable, and false otherwise; maintains Prolog execution flow\n",
    "\n",
    "        \"\"\"\n",
    "        if isinstance(Y, Variable):\n",
    "            response = input(question_dict[str(A)])\n",
    "\n",
    "            # handle variants on \"Yes\", allowing for whitespace and capitalisation\n",
    "            processed_response = response.lower().strip()\n",
    "            print(f\"Question: {question_dict[str(A)]}, Response: {processed_response}\")\n",
    "            Y.unify(processed_response)\n",
    "            return True\n",
    "        else:\n",
    "            return False\n",
    "\n",
    "    def read_menu_py(A, X, Menu):\n",
    "        \"\"\"\n",
    "        Asks the user to specify which value V of several possible menu options in Menu\n",
    "        for a given attribute A they prefer. Unifies the result with X, which is a variable\n",
    "        that is then passed into Prolog's predicate logic system.\n",
    "\n",
    "        Inputs\n",
    "        -----\n",
    "        A: the specified attribute\n",
    "        X: the variable used to encode user responses\n",
    "        Menu: the list of possible values for the attribute\n",
    "\n",
    "        \"\"\"\n",
    "        if isinstance(X, Variable):\n",
    "            menu_dict = {str(i+1): str(Menu[i]) for i in range(len(Menu))}\n",
    "            options = '\\n'.join([f'{i}. {j}' for i, j in menu_dict.items()])\n",
    "            response = input(f\"{question_dict[str(A)]}: {options}\")\n",
    "\n",
    "            if str(response) in [str(i+1) for i in range(len(Menu))]:\n",
    "                print(f\"Question: {question_dict[str(A)]}, Response: {menu_dict.get(response)} [{response}]\")\n",
    "            \n",
    "            # fail gracefully on incorrect input and try again\n",
    "            X.unify(menu_dict.get(response, str(response)))\n",
    "\n",
    "            \n",
    "            return True\n",
    "        else:\n",
    "            return False\n",
    "        \n",
    "    def ask_menu_again_py(Z):\n",
    "        \"\"\"\n",
    "        Printing function for cases where Prolog does not recognise the input to menuask\n",
    "        as a legal value\n",
    "\n",
    "        Inputs\n",
    "        --------\n",
    "        Z: the user input\n",
    "\n",
    "        Outputs\n",
    "        --------\n",
    "        Returns true so that Prolog continues execution\n",
    "\n",
    "        \"\"\"\n",
    "        print(f\"{Z} is not a legal value, try again.\")\n",
    "        return True\n",
    "\n",
    "    # registering functions for use in prolog\n",
    "    read_py.arity=3\n",
    "    ask_menu_again_py.arity=1\n",
    "    read_menu_py.arity=3\n",
    "\n",
    "    registerForeign(read_py)\n",
    "    registerForeign(read_menu_py)\n",
    "    registerForeign(ask_menu_again_py)\n",
    "\n",
    "    call(retractall(known))\n",
    "    destination = [s for s in prolog.query(\"findall(Location, recommended(Location), List).\")]\n",
    "    locations = list(set(destination[0]['List']))\n",
    "\n",
    "    if debug:\n",
    "        # prints all known attributes and values\n",
    "        known_attrs = [s for s in prolog.query(\"findall(X, known(yes, X, _), List).\")]\n",
    "        known_vals = [s for s in prolog.query(\"findall(Y, known(yes, _, Y), List).\")]\n",
    "        print(\"\\n Known Attributes:\", known_attrs)\n",
    "        print(\"\\n Known Values:\", known_vals)\n",
    "\n",
    "    # intelligently print final recommendation(s) besed on how many there are\n",
    "    if not locations:\n",
    "        print(\"unknown\")\n",
    "    elif len(locations) == 1:\n",
    "        print(f\"Your recommended destination is: \\n {dict_locations[locations[0]]}\")\n",
    "    else:\n",
    "        print(f\"Some recommended destinations are: \\n- \" + '\\n- '.join([dict_locations[i] for i in locations]))"
   ]
  },
  {
   "cell_type": "markdown",
   "metadata": {},
   "source": [
    "## Test Cases"
   ]
  },
  {
   "cell_type": "markdown",
   "metadata": {},
   "source": [
    "### Test Case One\n",
    "- Experience: Cultural\n",
    "- Time Required: Long (2)\n",
    "- Distance: Far (2)\n",
    "- Budget: Free\n",
    "- Museum?: Yes\n",
    "- Art or Cultural Museum: Art\n",
    "\n",
    " -> \"Museo Nacional de Bellas Artes: Visit Argentina's largest fine arts museum.\"\n",
    "\n",
    "### Test Case Two\n",
    "- Experience: Physical Activity\n",
    "- Time Required: Short (1)\n",
    "- Budget: Paid\n",
    "\n",
    " -> \"Parque Centenario: Bike around centenario park and enjoy its lake!\"\n",
    "\n",
    "### Test Three\n",
    "- Experience: Culinary\n",
    "- Distance: Close (1)\n",
    "- Price: High (3)\n",
    "- Vegetarian: No\n",
    "\n",
    " -> \"Don Julio: Come here for world famous Argentinian steak.\""
   ]
  },
  {
   "cell_type": "code",
   "execution_count": 5,
   "metadata": {},
   "outputs": [
    {
     "name": "stderr",
     "output_type": "stream",
     "text": [
      "Warning: /Users/finnmacken/Desktop/cs152-expert-system/buenos_aires-kb.pl:156:\n",
      "Warning:    Singleton variables: [Menu]\n",
      "Warning: /Users/finnmacken/Desktop/cs152-expert-system/buenos_aires-kb.pl:160:\n",
      "Warning:    Singleton variables: [V,Menu]\n",
      "Warning: /Users/finnmacken/Desktop/cs152-expert-system/buenos_aires-kb.pl:178:\n",
      "Warning:    Singleton variables: [A,V]\n"
     ]
    },
    {
     "name": "stdout",
     "output_type": "stream",
     "text": [
      "Question: Which of the following experiences would you like to have? (Input the associated number), Response: cultural [1]\n",
      "Question: How long should the activity take? (Short is less than 2 hours), Response: long [2]\n",
      "Question: Do you want to do something nearby or far away (Input the associated number), Response: far [2]\n",
      "Question: Should the activity be free? (yes/no), Response: yes\n",
      "Question: Would you like to go to a museum? (yes/no), Response: yes\n",
      "Question: What type of museum would you like to visit? (Input the associated number), Response: art [1]\n",
      "Your recommended destination is: \n",
      " Museo Nacional de Bellas Artes: Visit Argentina's largest fine arts museum.\n"
     ]
    }
   ],
   "source": [
    "# test case one\n",
    "consult_expert_system()"
   ]
  },
  {
   "cell_type": "code",
   "execution_count": 6,
   "metadata": {},
   "outputs": [
    {
     "name": "stderr",
     "output_type": "stream",
     "text": [
      "Warning: /Users/finnmacken/Desktop/cs152-expert-system/buenos_aires-kb.pl:156:\n",
      "Warning:    Singleton variables: [Menu]\n",
      "Warning: /Users/finnmacken/Desktop/cs152-expert-system/buenos_aires-kb.pl:160:\n",
      "Warning:    Singleton variables: [V,Menu]\n",
      "Warning: /Users/finnmacken/Desktop/cs152-expert-system/buenos_aires-kb.pl:178:\n",
      "Warning:    Singleton variables: [A,V]\n"
     ]
    },
    {
     "name": "stdout",
     "output_type": "stream",
     "text": [
      "Question: Which of the following experiences would you like to have? (Input the associated number), Response: physical_activity [2]\n",
      "Question: How long should the activity take? (Short is less than 2 hours), Response: short [1]\n",
      "Question: Should the activity be free? (yes/no), Response: no\n",
      "Your recommended destination is: \n",
      " Parque Centenario: Rent a bike to travel around centenario park and enjoy its lake!\n"
     ]
    }
   ],
   "source": [
    "# test case two\n",
    "consult_expert_system()"
   ]
  },
  {
   "cell_type": "code",
   "execution_count": 7,
   "metadata": {},
   "outputs": [
    {
     "name": "stderr",
     "output_type": "stream",
     "text": [
      "Warning: /Users/finnmacken/Desktop/cs152-expert-system/buenos_aires-kb.pl:156:\n",
      "Warning:    Singleton variables: [Menu]\n",
      "Warning: /Users/finnmacken/Desktop/cs152-expert-system/buenos_aires-kb.pl:160:\n",
      "Warning:    Singleton variables: [V,Menu]\n",
      "Warning: /Users/finnmacken/Desktop/cs152-expert-system/buenos_aires-kb.pl:178:\n",
      "Warning:    Singleton variables: [A,V]\n"
     ]
    },
    {
     "name": "stdout",
     "output_type": "stream",
     "text": [
      "Question: Which of the following experiences would you like to have? (Input the associated number), Response: culinary [3]\n",
      "Question: Do you want to do something nearby or far away (Input the associated number), Response: close [1]\n",
      "Question: Roughly how much do you want to pay for your food? (Input the associated number, Response: high [3]\n",
      "Question: Are you vegetarian (yes/no), Response: no\n",
      "Your recommended destination is: \n",
      " Don Julio: Come here for world famous Argentinian steak.\n"
     ]
    }
   ],
   "source": [
    "# test case three\n",
    "consult_expert_system()"
   ]
  }
 ],
 "metadata": {
  "kernelspec": {
   "display_name": "Python 3.9.16 64-bit",
   "language": "python",
   "name": "python3"
  },
  "language_info": {
   "codemirror_mode": {
    "name": "ipython",
    "version": 3
   },
   "file_extension": ".py",
   "mimetype": "text/x-python",
   "name": "python",
   "nbconvert_exporter": "python",
   "pygments_lexer": "ipython3",
   "version": "3.9.16"
  },
  "orig_nbformat": 4,
  "vscode": {
   "interpreter": {
    "hash": "a665b5d41d17b532ea9890333293a1b812fa0b73c9c25c950b3cedf1bebd0438"
   }
  }
 },
 "nbformat": 4,
 "nbformat_minor": 2
}
